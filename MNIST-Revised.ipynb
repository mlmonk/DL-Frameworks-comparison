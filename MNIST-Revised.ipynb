{
 "cells": [
  {
   "cell_type": "markdown",
   "metadata": {
    "colab_type": "text",
    "id": "xpsQesjB0LtB"
   },
   "source": [
    "## Deep Learning\n",
    "\n",
    "Using tensorflow and the MNIST dataset, compare the performance of differents NN architectures."
   ]
  },
  {
   "cell_type": "code",
   "execution_count": 1,
   "metadata": {},
   "outputs": [
    {
     "name": "stdout",
     "output_type": "stream",
     "text": [
      "tensorflow version:\n",
      "2.0.0-alpha0\n"
     ]
    }
   ],
   "source": [
    "from __future__ import absolute_import, division, print_function, unicode_literals\n",
    "\n",
    "import tensorflow as tf\n",
    "\n",
    "from tensorflow.keras.layers import Dense, Flatten, Conv2D\n",
    "from tensorflow.keras import Model\n",
    "import matplotlib.pyplot as plt\n",
    "\n",
    "# tensorflow version\n",
    "print('tensorflow version:')\n",
    "print(tf.__version__)"
   ]
  },
  {
   "cell_type": "code",
   "execution_count": 2,
   "metadata": {},
   "outputs": [],
   "source": [
    "# Import the mnist dataset\n",
    "mnist = tf.keras.datasets.mnist\n",
    "\n",
    "# Load the mnist dataset and preprocess it\n",
    "(x_train, y_train),(x_test, y_test) = mnist.load_data()\n",
    "x_train, x_test = x_train / 255.0, x_test / 255.0\n",
    "\n",
    "# Add a channels dimension\n",
    "x_train = x_train[..., tf.newaxis]\n",
    "x_test = x_test[..., tf.newaxis]"
   ]
  },
  {
   "cell_type": "code",
   "execution_count": 3,
   "metadata": {},
   "outputs": [],
   "source": [
    "train_ds = tf.data.Dataset.from_tensor_slices(\n",
    "    (x_train, y_train)).shuffle(10000).batch(32)\n",
    "test_ds = tf.data.Dataset.from_tensor_slices((x_test, y_test)).batch(32)"
   ]
  },
  {
   "cell_type": "code",
   "execution_count": 4,
   "metadata": {},
   "outputs": [],
   "source": [
    "class MyModel(Model):\n",
    "  def __init__(self):\n",
    "    super(MyModel, self).__init__()\n",
    "    self.conv1 = Conv2D(32, 3, activation='relu')\n",
    "    self.flatten = Flatten()\n",
    "    self.d1 = Dense(128, activation='relu')\n",
    "    self.d2 = Dense(10, activation='softmax')\n",
    "\n",
    "  def call(self, x):\n",
    "    x = self.conv1(x)\n",
    "    x = self.flatten(x)\n",
    "    x = self.d1(x)\n",
    "    return self.d2(x)\n",
    "\n",
    "model = MyModel()"
   ]
  },
  {
   "cell_type": "code",
   "execution_count": 5,
   "metadata": {},
   "outputs": [],
   "source": [
    "loss_object = tf.keras.losses.SparseCategoricalCrossentropy()\n",
    "\n",
    "optimizer = tf.keras.optimizers.Adam()"
   ]
  },
  {
   "cell_type": "code",
   "execution_count": 6,
   "metadata": {},
   "outputs": [],
   "source": [
    "train_loss = tf.keras.metrics.Mean(name='train_loss')\n",
    "train_accuracy = tf.keras.metrics.SparseCategoricalAccuracy(name='train_accuracy')\n",
    "\n",
    "test_loss = tf.keras.metrics.Mean(name='test_loss')\n",
    "test_accuracy = tf.keras.metrics.SparseCategoricalAccuracy(name='test_accuracy')"
   ]
  },
  {
   "cell_type": "code",
   "execution_count": 7,
   "metadata": {},
   "outputs": [],
   "source": [
    "@tf.function\n",
    "def train_step(images, labels):\n",
    "  with tf.GradientTape() as tape:\n",
    "    predictions = model(images)\n",
    "    loss = loss_object(labels, predictions)\n",
    "  gradients = tape.gradient(loss, model.trainable_variables)\n",
    "  optimizer.apply_gradients(zip(gradients, model.trainable_variables))\n",
    "\n",
    "  train_loss(loss)\n",
    "  train_accuracy(labels, predictions)"
   ]
  },
  {
   "cell_type": "code",
   "execution_count": 8,
   "metadata": {},
   "outputs": [],
   "source": [
    "@tf.function\n",
    "def test_step(images, labels):\n",
    "  predictions = model(images)\n",
    "  t_loss = loss_object(labels, predictions)\n",
    "\n",
    "  test_loss(t_loss)\n",
    "  test_accuracy(labels, predictions)"
   ]
  },
  {
   "cell_type": "code",
   "execution_count": 9,
   "metadata": {},
   "outputs": [
    {
     "name": "stdout",
     "output_type": "stream",
     "text": [
      "Epoch 1, Loss: 0.12812109291553497, Accuracy: 96.13166809082031, Test Loss: 0.05967067554593086, Test Accuracy: 98.0199966430664\n",
      "Epoch 2, Loss: 0.08333634585142136, Accuracy: 97.48250579833984, Test Loss: 0.06561493128538132, Test Accuracy: 97.89999389648438\n",
      "Epoch 3, Loss: 0.06162169575691223, Accuracy: 98.13111114501953, Test Loss: 0.06858090311288834, Test Accuracy: 97.87667083740234\n",
      "Epoch 4, Loss: 0.04916425421833992, Accuracy: 98.507080078125, Test Loss: 0.0673288032412529, Test Accuracy: 98.00999450683594\n",
      "Epoch 5, Loss: 0.04145214334130287, Accuracy: 98.73300170898438, Test Loss: 0.0790666937828064, Test Accuracy: 97.80400085449219\n"
     ]
    }
   ],
   "source": [
    "EPOCHS = 5\n",
    "\n",
    "for epoch in range(EPOCHS):\n",
    "  for images, labels in train_ds:\n",
    "    train_step(images, labels)\n",
    "\n",
    "  for test_images, test_labels in test_ds:\n",
    "    test_step(test_images, test_labels)\n",
    "\n",
    "  template = 'Epoch {}, Loss: {}, Accuracy: {}, Test Loss: {}, Test Accuracy: {}'\n",
    "  print (template.format(epoch+1,\n",
    "                         train_loss.result(),\n",
    "                         train_accuracy.result()*100,\n",
    "                         test_loss.result(),\n",
    "                         test_accuracy.result()*100))"
   ]
  },
  {
   "cell_type": "code",
   "execution_count": null,
   "metadata": {},
   "outputs": [],
   "source": []
  },
  {
   "cell_type": "markdown",
   "metadata": {},
   "source": [
    "### Network Architecture: Model 1 (1 Hidden Layer)\n",
    "1 Hidden Layer: 256 neurons, activation function=RELU\n",
    "Optimization algorithm: SGD, Loss: Categorical Cross Entropy, Metric: Accuracy"
   ]
  },
  {
   "cell_type": "code",
   "execution_count": 3,
   "metadata": {},
   "outputs": [],
   "source": [
    "# Define your network architecture.\n",
    "model2 = tf.keras.models.Sequential([\n",
    "  # Input Layer\n",
    "  tf.keras.layers.Flatten(input_shape=(28, 28)),\n",
    "  # Hidden Layer\n",
    "  tf.keras.layers.Dense(256, activation=tf.nn.relu),\n",
    "  # Output Layer\n",
    "  tf.keras.layers.Dense(10, activation=tf.nn.softmax)\n",
    "])\n",
    "\n",
    "# Configure the model for training.\n",
    "model2.compile(optimizer='SGD', loss='sparse_categorical_crossentropy', metrics=['accuracy'])"
   ]
  },
  {
   "cell_type": "markdown",
   "metadata": {},
   "source": [
    "Test how long it took for training model 1"
   ]
  },
  {
   "cell_type": "code",
   "execution_count": 4,
   "metadata": {},
   "outputs": [
    {
     "name": "stdout",
     "output_type": "stream",
     "text": [
      "Epoch 1/5\n",
      "60000/60000 [==============================] - 7s 124us/sample - loss: 1.1623 - accuracy: 0.6912\n",
      "Epoch 2/5\n",
      "60000/60000 [==============================] - 7s 122us/sample - loss: 0.6148 - accuracy: 0.8490\n",
      "Epoch 3/5\n",
      "60000/60000 [==============================] - 7s 121us/sample - loss: 0.5041 - accuracy: 0.8694\n",
      "Epoch 4/5\n",
      "60000/60000 [==============================] - 7s 116us/sample - loss: 0.4514 - accuracy: 0.8794\n",
      "Epoch 5/5\n",
      "60000/60000 [==============================] - 7s 118us/sample - loss: 0.4196 - accuracy: 0.8860\n",
      "Wall time: 36.3 s\n"
     ]
    }
   ],
   "source": [
    "%%time\n",
    "# Train your model using the training data\n",
    "history2 = model2.fit(x_train, y_train, epochs=5)"
   ]
  },
  {
   "cell_type": "code",
   "execution_count": 6,
   "metadata": {},
   "outputs": [
    {
     "name": "stdout",
     "output_type": "stream",
     "text": [
      "10000/10000 [==============================] - 1s 96us/sample - loss: 0.3867 - accuracy: 0.8962\n"
     ]
    },
    {
     "data": {
      "text/plain": [
       "[0.3867468881249428, 0.8962]"
      ]
     },
     "execution_count": 6,
     "metadata": {},
     "output_type": "execute_result"
    }
   ],
   "source": [
    "# Evaluate your model using the test data\n",
    "model2.evaluate(x_test, y_test)"
   ]
  },
  {
   "cell_type": "markdown",
   "metadata": {},
   "source": [
    "### Create a third NN called 'model3' but now add one more hidden layer, and use the ADAM optimization algorithm"
   ]
  },
  {
   "cell_type": "markdown",
   "metadata": {},
   "source": [
    "### Network Architecture: Model 3 (2 Hidden Layers)\n",
    "1 Hidden Layer: 256 neurons, activation function=SELU, No Dropout\n",
    "\n",
    "2 Hidden Layer: 64 neurons, activation function=SELU, No Dropout\n",
    "\n",
    "Optimization algorithm: ADAM, Loss: Categorical Cross Entropy, Metric: Accuracy"
   ]
  },
  {
   "cell_type": "code",
   "execution_count": 7,
   "metadata": {},
   "outputs": [],
   "source": [
    "# Define your network architecture.\n",
    "model3 = tf.keras.models.Sequential([\n",
    "  # Input Layer\n",
    "  tf.keras.layers.Flatten(input_shape=(28, 28)),\n",
    "  # Hidden Layer\n",
    "  tf.keras.layers.Dense(256, activation=tf.nn.selu),\n",
    "  #Second hidden layer\n",
    "  tf.keras.layers.Dense(64, activation=tf.nn.selu),\n",
    "  # Output Layer\n",
    "  tf.keras.layers.Dense(10, activation=tf.nn.softmax)\n",
    "])\n",
    "\n",
    "# Configure the model for training.\n",
    "model3.compile(optimizer='ADAM', loss='sparse_categorical_crossentropy', metrics=['accuracy'])"
   ]
  },
  {
   "cell_type": "markdown",
   "metadata": {},
   "source": [
    "Compute how long it takes to train Model2"
   ]
  },
  {
   "cell_type": "code",
   "execution_count": 8,
   "metadata": {},
   "outputs": [
    {
     "name": "stdout",
     "output_type": "stream",
     "text": [
      "Epoch 1/5\n",
      "60000/60000 [==============================] - 9s 155us/sample - loss: 0.2544 - accuracy: 0.9235\n",
      "Epoch 2/5\n",
      "60000/60000 [==============================] - 9s 153us/sample - loss: 0.1260 - accuracy: 0.9617\n",
      "Epoch 3/5\n",
      "60000/60000 [==============================] - 9s 153us/sample - loss: 0.0913 - accuracy: 0.9710\n",
      "Epoch 4/5\n",
      "60000/60000 [==============================] - 9s 157us/sample - loss: 0.0713 - accuracy: 0.9772\n",
      "Epoch 5/5\n",
      "60000/60000 [==============================] - 9s 155us/sample - loss: 0.0596 - accuracy: 0.9806\n",
      "Wall time: 46.9 s\n"
     ]
    }
   ],
   "source": [
    "%%time\n",
    "# Train your model using the training data\n",
    "history3 = model3.fit(x_train, y_train, epochs=5)"
   ]
  },
  {
   "cell_type": "code",
   "execution_count": 9,
   "metadata": {},
   "outputs": [
    {
     "name": "stdout",
     "output_type": "stream",
     "text": [
      "10000/10000 [==============================] - 1s 89us/sample - loss: 0.0876 - accuracy: 0.9751\n"
     ]
    },
    {
     "data": {
      "text/plain": [
       "[0.08763016198718106, 0.9751]"
      ]
     },
     "execution_count": 9,
     "metadata": {},
     "output_type": "execute_result"
    }
   ],
   "source": [
    "# Evaluate your model using the test data\n",
    "model3.evaluate(x_test, y_test)"
   ]
  },
  {
   "cell_type": "markdown",
   "metadata": {},
   "source": [
    "### Create another NN called 'model4'. Add one more hidden layer, and now use a dropout rate of 0.1 for all layers"
   ]
  },
  {
   "cell_type": "markdown",
   "metadata": {},
   "source": [
    "### Network Architecture: Model 4 (3 Hidden Layers)\n",
    "1 Hidden Layer: 256 neurons, activation function=SELU, Dropout rate=0.1\n",
    "\n",
    "2 Hidden Layer: 64 neurons, activation function=SELU, Dropout rate=0.1\n",
    "\n",
    "3 Hidden Layer: 16 neurons, activation function=SELU, Dropout rate=0.1\n",
    "\n",
    "Optimization algorithm: ADAM, Loss: Categorical Cross Entropy, Metric: Accuracy"
   ]
  },
  {
   "cell_type": "code",
   "execution_count": 10,
   "metadata": {},
   "outputs": [],
   "source": [
    "# Define your network architecture.\n",
    "model4 = tf.keras.models.Sequential([\n",
    "  # Input Layer\n",
    "  tf.keras.layers.Flatten(input_shape=(28, 28)),\n",
    "  # Hidden Layer\n",
    "  tf.keras.layers.Dense(256, activation=tf.nn.selu),\n",
    "  tf.keras.layers.Dropout(0.1),\n",
    "  #Second hidden layer\n",
    "  tf.keras.layers.Dense(64, activation=tf.nn.selu),\n",
    "  tf.keras.layers.Dropout(0.1),\n",
    "  #Third hidden layer\n",
    "  tf.keras.layers.Dense(16, activation=tf.nn.selu),\n",
    "  tf.keras.layers.Dropout(0.1),\n",
    "  # Output Layer\n",
    "  tf.keras.layers.Dense(10, activation=tf.nn.softmax)\n",
    "])\n",
    "\n",
    "# Configure the model for training.\n",
    "model4.compile(optimizer='ADAM', loss='sparse_categorical_crossentropy', metrics=['accuracy'])"
   ]
  },
  {
   "cell_type": "markdown",
   "metadata": {},
   "source": [
    "Calculate how long it takes to train Model4"
   ]
  },
  {
   "cell_type": "code",
   "execution_count": 11,
   "metadata": {},
   "outputs": [
    {
     "name": "stdout",
     "output_type": "stream",
     "text": [
      "Epoch 1/5\n",
      "60000/60000 [==============================] - 10s 171us/sample - loss: 0.3605 - accuracy: 0.8901\n",
      "Epoch 2/5\n",
      "60000/60000 [==============================] - 10s 159us/sample - loss: 0.2125 - accuracy: 0.9362\n",
      "Epoch 3/5\n",
      "60000/60000 [==============================] - 10s 174us/sample - loss: 0.1650 - accuracy: 0.9506\n",
      "Epoch 4/5\n",
      "60000/60000 [==============================] - 9s 157us/sample - loss: 0.1398 - accuracy: 0.9584\n",
      "Epoch 5/5\n",
      "60000/60000 [==============================] - 10s 162us/sample - loss: 0.1231 - accuracy: 0.9628\n",
      "Wall time: 50.2 s\n"
     ]
    }
   ],
   "source": [
    "%%time\n",
    "# Train your model using the training data\n",
    "history4 = model4.fit(x_train, y_train, epochs=5)"
   ]
  },
  {
   "cell_type": "code",
   "execution_count": 12,
   "metadata": {},
   "outputs": [
    {
     "name": "stdout",
     "output_type": "stream",
     "text": [
      "10000/10000 [==============================] - 1s 101us/sample - loss: 0.0961 - accuracy: 0.9698\n"
     ]
    },
    {
     "data": {
      "text/plain": [
       "[0.09613152909129859, 0.9698]"
      ]
     },
     "execution_count": 12,
     "metadata": {},
     "output_type": "execute_result"
    }
   ],
   "source": [
    "# Evaluate your model using the test data\n",
    "model4.evaluate(x_test, y_test)"
   ]
  },
  {
   "cell_type": "code",
   "execution_count": 13,
   "metadata": {},
   "outputs": [
    {
     "data": {
      "image/png": "[encoded data removed]",
      "text/plain": [
       "<Figure size 432x288 with 1 Axes>"
      ]
     },
     "metadata": {
      "needs_background": "light"
     },
     "output_type": "display_data"
    }
   ],
   "source": [
    "plt.plot(history4.history['accuracy'], history4.history['loss'], color='green')\n",
    "plt.plot(history3.history['accuracy'], history3.history['loss'], color='blue')\n",
    "plt.plot(history2.history['accuracy'], history2.history['loss'], color='red')\n",
    "plt.xlabel('Accuracy')\n",
    "plt.ylabel('Loss')\n",
    "plt.show()"
   ]
  }
 ],
 "metadata": {
  "kernelspec": {
   "display_name": "Python 3",
   "language": "python",
   "name": "python3"
  },
  "language_info": {
   "codemirror_mode": {
    "name": "ipython",
    "version": 3
   },
   "file_extension": ".py",
   "mimetype": "text/x-python",
   "name": "python",
   "nbconvert_exporter": "python",
   "pygments_lexer": "ipython3",
   "version": "3.6.7"
  }
 },
 "nbformat": 4,
 "nbformat_minor": 2
}
